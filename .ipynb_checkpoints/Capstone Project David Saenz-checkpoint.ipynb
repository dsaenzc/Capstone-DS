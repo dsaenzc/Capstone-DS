{
 "cells": [
  {
   "cell_type": "markdown",
   "id": "b0cc374d-9b94-433c-b495-a1f2b243f433",
   "metadata": {},
   "source": [
    "Capstone Proyect Wizeline Academy by David Omar Sáenz Castillo\n",
    "\n",
    "Project Objective\n",
    "\n",
    "Generate a program that uses the OpenAI API to read a PDF invoice and extract the subtotal, total, taxes, UUID and main description in JSON format to later process the information in a portal of electronic accounting providers for Mexico\n",
    "\n"
   ]
  },
  {
   "cell_type": "code",
   "execution_count": 1,
   "id": "d9e07a04-716a-4054-98af-a08f0bffaea6",
   "metadata": {},
   "outputs": [],
   "source": [
    "import numpy as np\n",
    "import os\n",
    "import urllib.request as ur\n",
    "import ipywidgets as widgets\n",
    "import PyPDF2\n",
    "\n",
    "from openai import OpenAI\n",
    "from IPython.display import IFrame, HTML"
   ]
  },
  {
   "cell_type": "markdown",
   "id": "c1e95b33-369a-4507-89ab-6434f6b324e6",
   "metadata": {},
   "source": [
    "Initialize the Open AI API"
   ]
  },
  {
   "cell_type": "code",
   "execution_count": 2,
   "id": "1f7f9d1f-1768-4eb4-a034-bcdea1251b18",
   "metadata": {},
   "outputs": [
    {
     "data": {
      "text/plain": [
       "<openai.OpenAI at 0x18278c39370>"
      ]
     },
     "execution_count": 2,
     "metadata": {},
     "output_type": "execute_result"
    }
   ],
   "source": [
    "client = OpenAI(\n",
    "    # defaults to os.environ.get(\"OPENAI_API_KEY\")\n",
    "    # or you can explicitly pass in the key (NOT RECOMMENDED)\n",
    "    api_key=os.getenv(\"OPENAI_KEY\"),\n",
    ")\n",
    "\n",
    "client"
   ]
  },
  {
   "cell_type": "markdown",
   "id": "b779f154-023b-4359-81af-45069b45c93b",
   "metadata": {},
   "source": [
    "Recover PDF invoice which must be processed and extract company data, total and taxes"
   ]
  },
  {
   "cell_type": "code",
   "execution_count": 6,
   "id": "6c0c53cb-8385-49e1-a693-e3167a23fc31",
   "metadata": {},
   "outputs": [],
   "source": [
    "# Please change this path to match your directory structure\n",
    "media_path = \"resources/\"\n",
    "\n",
    "invoicePdf = open(media_path + \"invoice.pdf\", \"rb\")\n"
   ]
  },
  {
   "cell_type": "markdown",
   "id": "a17134e1-0984-47a7-b19d-3824c896469f",
   "metadata": {},
   "source": [
    "Show PDF:"
   ]
  },
  {
   "cell_type": "code",
   "execution_count": 4,
   "id": "538710cc-9085-41e5-bb4a-a5e7bb32fd63",
   "metadata": {},
   "outputs": [
    {
     "data": {
      "text/html": [
       "\n",
       "        <iframe\n",
       "            width=\"800\"\n",
       "            height=\"400\"\n",
       "            src=\"resources/invoice.pdf\"\n",
       "            frameborder=\"0\"\n",
       "            allowfullscreen\n",
       "            \n",
       "        ></iframe>\n",
       "        "
      ],
      "text/plain": [
       "<IPython.lib.display.IFrame at 0x18279979e80>"
      ]
     },
     "execution_count": 4,
     "metadata": {},
     "output_type": "execute_result"
    }
   ],
   "source": [
    "IFrame(src=media_path + \"invoice.pdf\", width=800, height=400)"
   ]
  },
  {
   "cell_type": "markdown",
   "id": "d975ec66-c2c3-4630-a753-5a0267518dd7",
   "metadata": {},
   "source": [
    "After needs to extract the main information from PDF\n"
   ]
  },
  {
   "cell_type": "code",
   "execution_count": 8,
   "id": "261dd424-2085-456c-b785-767d7c213ddf",
   "metadata": {},
   "outputs": [
    {
     "name": "stdout",
     "output_type": "stream",
     "text": [
      "Factura1022001648\n",
      "INTERCALZA DE LEON\n",
      " 601 - General de Ley Personas Morales\n",
      "RICARDO MARGAIN ZOZAYA No. 333\n",
      "C.P.66267\n",
      "SANTA ENGRACIA NUEVO LEÓN, SAN PEDRO GARZA GARCIA MÉXICO\n",
      "Lugar de Expedición: 66267\n",
      "Cliente:Certificado Digital:\n",
      "00001000000508248796\n",
      "Folio Fiscal:\n",
      "9A34DA97-C72B-4F35-A42B-C8E41F7C9970SERVICIOS DE NAVES INDUSTRIALES\n",
      "R.F.C. SNI010425JS2\n",
      "Fecha de Emisión:\n",
      "Nombre o Razón Social:\n",
      "No. de Orden:\n",
      "Método de pago:20/10/2022 15:50:34\n",
      "PPD - Pago en parcialidades o diferidoR.F.C.:\n",
      "Forma de Pago:\n",
      "Número de cuenta:99 - Por definir\n",
      "NO IDENTIFICADOEstado: GUANAJUATO País: MÉXICO\n",
      "Condición de Pago: Pagadero 5 DiasCalle: BLVD. FCO. VILLA Número Exterior: 201 Número Interior: 1\n",
      "Código Postal: 37510 Municipio: LEÓN44313 Referencia Bancaria: Colonia: ORIENTAL\n",
      "lfigueroa@flexi.com.mx, aornelasperez@flexi.com.mx,\n",
      "cobranza.stiva@stiva.come-Mail: 477 7102500 Teléfono:Moneda: MXN Tipo de Cambio: 1G03 - Gastos en general Uso CFDI ILE801209A23\n",
      "Conceptos:Cantidad Cve Producto SAT Descripción Precio Unidad ImporteConceptos:\n",
      "Unidad SAT\n",
      "MANTENIMIENTO NOVIEMBRE 2022 PARQUE INDUSTRIAL\n",
      "LEON SB001B ORDEN DE COMPRA: 45005041866,127.34 6,127.3400 1.000 72101507 E48\n",
      "Unidad de servicio\n",
      "MANTENIMIENTO MULTIUSUARIOS NOVIEMBRE 2022\n",
      "PARQUE INDUSTRIAL LEON SB001B ORDEN DE COMPRA:\n",
      "450050418615,512.63 15,512.6300 1.000 72101507 E48\n",
      "Unidad de servicio\n",
      "3,462.40 IVA 0.16%:\n",
      "Total: 25,102.37\n",
      "Importe con letra: VEINTICINCO MIL CIENTO DOS PESOS 37/100 MNSubtotal: 21,639.97\n",
      "Observaciones:\n",
      " Cadena Original del Timbre:\n",
      "||1.1|9A34DA97-C72B-4F35-A42B-C8E41F7C9970|2022-10-\n",
      "20T15:55:04|PPD101129EA3|RTYlKP+EYQ3OJ363m32wcEX/cUjQ2AkNUMzczTjKwpIFTjYLFJTnpUE4O4Xaimmrm3PvK59bcwgV+ZzecMqQZcmmIiVOhjUpdln0iQifZTUFwnbUf5\n",
      "Fm1pgwTocLYVyQ7Sp4n4bvejGAI1HbBOFgXrLZYgU21wD57WWO9bfJVLvue2GYCx6HeBW7/097n47uZ4/swCszgp5BWzaedRPVVTo6n2RjC1ZsHcXHLfTIhKG3aDNxwcCDHyg\n",
      "kyFPFb2K1NVu5WQHyAgZFR8SRAOfWVZr/CpEhJUD0QqvmwAopZy0W0xCOvl0rbJFbz90R75tEyJmgDTDZcjePqqy2hGwBXA==|00001000000504204971||\n",
      "Sello Digital del Emisor:\n",
      "RTYlKP+EYQ3OJ363m32wcEX/cUjQ2AkNUMzczTjKwpIFTjYLFJTnpUE4O4Xaimmrm3PvK59bcwgV+ZzecMqQZcmmIiVOhjUpdln0iQifZTUFwnbUf5Fm1pgwTocLYVyQ7Sp4n4bv\n",
      "ejGAI1HbBOFgXrLZYgU21wD57WWO9bfJVLvue2GYCx6HeBW7/097n47uZ4/swCszgp5BWzaedRPVVTo6n2RjC1ZsHcXHLfTIhKG3aDNxwcCDHygkyFPFb2K1NVu5WQHyAgZFR\n",
      "Sello Digital del SAT:\n",
      "O9G5PBYeMyl+tBAJFtrMHZDDMf2acLXv0WHqeQGrXaLhpaoDAM4iKKwbOKTJCQeJLiGVGuytmvLPyI2TP/LM2wgqWr1m344jYMBUqA4s+4qRdRkBHSkhnA3saydMQDn6GWC\n",
      "mcZP163+mCTlt48ErdiKsu0uewd3f5cMQoE/o1A24S6R0sGpc3NW+znz9qLeZf646faCrdyZ5EgYL4kYhWVZSaoovJJp7pCh1K+YMO7O4qBAWR7eGpkAGlkHJR4JBbXWgaI7UdPCertificado Digital SAT Fecha de Certificación\n",
      "00001000000504204971 2022-10-20T15:55:04Información del Timbre Fiscal Digital:\n",
      "Este documento es una representación impresa de un CFDI\n",
      "Hoja1 de 1\n"
     ]
    }
   ],
   "source": [
    "def extract_text_from_pdf(pdf_path):\n",
    "    text = \"\"\n",
    "    with open(pdf_path, 'rb') as file:\n",
    "        pdf_reader = PyPDF2.PdfReader(file)\n",
    "        num_pages = len(pdf_reader.pages)\n",
    "        for page_num in range(num_pages):\n",
    "            page = pdf_reader.pages[page_num]\n",
    "            text += page.extract_text()\n",
    "    return text\n",
    "\n",
    "\n",
    "pdf_text = extract_text_from_pdf(media_path + \"invoice.pdf\")\n",
    "print(pdf_text)\n"
   ]
  },
  {
   "cell_type": "markdown",
   "id": "e0fd9095-1bd9-45b7-a32f-7921df87cd65",
   "metadata": {},
   "source": [
    "The text is then sent for analysis."
   ]
  },
  {
   "cell_type": "code",
   "execution_count": 18,
   "id": "ce558bbe-8c86-4931-9957-ac189fb4a4ec",
   "metadata": {
    "scrolled": true
   },
   "outputs": [
    {
     "name": "stdout",
     "output_type": "stream",
     "text": [
      "{\n",
      "  \"subtotal\": 21639.97,\n",
      "  \"total\": 25102.37,\n",
      "  \"tax_amount\": 3462.40,\n",
      "  \"uuid\": \"9A34DA97-C72B-4F35-A42B-C8E41F7C9970\",\n",
      "  \"main_description\": \"MANTENIMIENTO NOVIEMBRE 2022 PARQUE INDUSTRIAL LEON SB001B ORDEN DE COMPRA: 45005041866\"\n",
      "}\n"
     ]
    }
   ],
   "source": [
    "question = \"What are the subtotal, total, tax amounts, uuid and main description in json format?\"\n",
    "\n",
    "promise = f\"{pdf_text}\\n\\nQuestion: {question}\"\n",
    "\n",
    "response = client.chat.completions.create(\n",
    "    model=\"gpt-3.5-turbo-1106\",\n",
    "    messages=[{\"role\": \"user\", \"content\": promise}],\n",
    "    max_tokens=200,\n",
    "    response_format={\"type\": \"json_object\"}\n",
    ")\n",
    "\n",
    "print(response.model_dump()['choices'][0]['message']['content'])\n"
   ]
  },
  {
   "cell_type": "markdown",
   "id": "44180c43-3054-422f-8dd0-650fdaa55fd3",
   "metadata": {},
   "source": [
    "At the end we have the requested information\n"
   ]
  }
 ],
 "metadata": {
  "kernelspec": {
   "display_name": "Python 3 (ipykernel)",
   "language": "python",
   "name": "python3"
  },
  "language_info": {
   "codemirror_mode": {
    "name": "ipython",
    "version": 3
   },
   "file_extension": ".py",
   "mimetype": "text/x-python",
   "name": "python",
   "nbconvert_exporter": "python",
   "pygments_lexer": "ipython3",
   "version": "3.12.0"
  }
 },
 "nbformat": 4,
 "nbformat_minor": 5
}
